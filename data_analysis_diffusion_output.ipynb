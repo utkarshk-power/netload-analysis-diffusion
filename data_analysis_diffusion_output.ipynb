{
 "cells": [
  {
   "cell_type": "code",
   "execution_count": 1,
   "id": "bf9120d0",
   "metadata": {},
   "outputs": [],
   "source": [
    "import matplotlib.pyplot as plt\n",
    "import numpy as np\n",
    "import os\n",
    "import pandas as pd\n"
   ]
  },
  {
   "cell_type": "code",
   "execution_count": 2,
   "id": "e6d7e899",
   "metadata": {},
   "outputs": [
    {
     "name": "stdout",
     "output_type": "stream",
     "text": [
      "(49, 24, 6)\n"
     ]
    }
   ],
   "source": [
    "generated_data = np.load(\"/Users/urkarsh.kulshrestha/Documents/AI_environment/work_env/NeurIPS2024/TS-Diffusion/OUTPUT/technos_diffusion_test.csv/ddpm_predict_technos_diffusion_test.csv.npy\")\n",
    "print(generated_data.shape)"
   ]
  },
  {
   "cell_type": "code",
   "execution_count": 3,
   "id": "2777c309",
   "metadata": {},
   "outputs": [
    {
     "name": "stdout",
     "output_type": "stream",
     "text": [
      "(49, 24, 6)\n"
     ]
    }
   ],
   "source": [
    "original_data = np.load(\"/Users/urkarsh.kulshrestha/Documents/AI_environment/work_env/NeurIPS2024/TS-Diffusion/OUTPUT/technos_diffusion_test.csv/samples/netload_ground_truth_24_test.npy\")\n",
    "print(original_data.shape)"
   ]
  },
  {
   "cell_type": "code",
   "execution_count": 4,
   "id": "cdb0baf7",
   "metadata": {},
   "outputs": [],
   "source": [
    "original_dataframe = pd.DataFrame(original_data.reshape(-1,6), columns = ['Hour', 'DayOfWeek', 'Month', 'DayOfYear', 'Average_Temperature_C', 'netload'])\n",
    "generated_dataframe = pd.DataFrame(generated_data.reshape(-1,6), columns = ['Hour', 'DayOfWeek', 'Month', 'DayOfYear', 'Average_Temperature_C', 'netload'])"
   ]
  },
  {
   "cell_type": "code",
   "execution_count": 5,
   "id": "9d21f24c",
   "metadata": {},
   "outputs": [
    {
     "name": "stdout",
     "output_type": "stream",
     "text": [
      "      Hour  DayOfWeek  Month  DayOfYear  Average_Temperature_C     netload\n",
      "0      7.0        1.0    9.0      252.0                   27.1  464.860171\n",
      "1      8.0        1.0    9.0      252.0                   29.1  456.044742\n",
      "2      9.0        1.0    9.0      252.0                   30.7  204.742214\n",
      "3     10.0        1.0    9.0      252.0                   31.7  121.911748\n",
      "4     11.0        1.0    9.0      252.0                   32.7   52.186991\n",
      "...    ...        ...    ...        ...                    ...         ...\n",
      "1171  14.0        2.0    9.0      253.0                   31.6   36.150023\n",
      "1172  15.0        2.0    9.0      253.0                   30.6   35.688836\n",
      "1173  16.0        2.0    9.0      253.0                   30.5   35.664424\n",
      "1174  17.0        2.0    9.0      253.0                   29.4   32.077666\n",
      "1175  18.0        2.0    9.0      253.0                   28.6   15.844295\n",
      "\n",
      "[1176 rows x 6 columns]\n"
     ]
    }
   ],
   "source": [
    "print(original_dataframe)"
   ]
  },
  {
   "cell_type": "code",
   "execution_count": 6,
   "id": "bedaa784",
   "metadata": {},
   "outputs": [
    {
     "name": "stdout",
     "output_type": "stream",
     "text": [
      "           Hour  DayOfWeek     Month   DayOfYear  Average_Temperature_C  \\\n",
      "0     20.990515   3.999253  9.000000  255.007401              24.756402   \n",
      "1     22.019255   4.001148  8.999965  255.003892              24.508235   \n",
      "2     22.994639   4.003704  8.999720  255.004307              24.174596   \n",
      "3      0.000000   5.002961  8.999924  256.004555              24.085938   \n",
      "4      1.000927   5.002309  9.000000  256.003604              24.303154   \n",
      "...         ...        ...       ...         ...                    ...   \n",
      "1171   8.995081   0.004255  8.999541  251.014950              30.432386   \n",
      "1172  10.022607   0.002610  8.999852  251.012470              31.330951   \n",
      "1173  10.994487   0.000000  8.999770  251.014347              31.320307   \n",
      "1174  11.980460   0.000000  8.999782  251.018363              32.672226   \n",
      "1175  12.998577   0.000000  8.999783  251.017331              32.623098   \n",
      "\n",
      "         netload  \n",
      "0      15.488934  \n",
      "1      14.077615  \n",
      "2      22.901829  \n",
      "3      95.576861  \n",
      "4      97.453934  \n",
      "...          ...  \n",
      "1171  235.563980  \n",
      "1172  149.313865  \n",
      "1173   58.461966  \n",
      "1174   44.086431  \n",
      "1175   39.977219  \n",
      "\n",
      "[1176 rows x 6 columns]\n"
     ]
    }
   ],
   "source": [
    "print(generated_dataframe)"
   ]
  },
  {
   "cell_type": "code",
   "execution_count": null,
   "id": "52d448ca",
   "metadata": {},
   "outputs": [
    {
     "ename": "SyntaxError",
     "evalue": "invalid syntax (385407805.py, line 1)",
     "output_type": "error",
     "traceback": [
      "\u001b[0;36m  Cell \u001b[0;32mIn[7], line 1\u001b[0;36m\u001b[0m\n\u001b[0;31m    def visualize_data(original_dataframe)\u001b[0m\n\u001b[0m                                          ^\u001b[0m\n\u001b[0;31mSyntaxError\u001b[0m\u001b[0;31m:\u001b[0m invalid syntax\n"
     ]
    }
   ],
   "source": [
    "def visualize_data(original_dataframe, generated_dataframe):\n",
    "    "
   ]
  },
  {
   "cell_type": "code",
   "execution_count": null,
   "id": "7e83991f",
   "metadata": {},
   "outputs": [],
   "source": []
  }
 ],
 "metadata": {
  "kernelspec": {
   "display_name": "work_env",
   "language": "python",
   "name": "python3"
  },
  "language_info": {
   "codemirror_mode": {
    "name": "ipython",
    "version": 3
   },
   "file_extension": ".py",
   "mimetype": "text/x-python",
   "name": "python",
   "nbconvert_exporter": "python",
   "pygments_lexer": "ipython3",
   "version": "3.9.6"
  }
 },
 "nbformat": 4,
 "nbformat_minor": 5
}
